{
 "cells": [
  {
   "cell_type": "code",
   "execution_count": 1,
   "metadata": {},
   "outputs": [],
   "source": [
    "import numpy as np\n",
    "import matplotlib.pyplot as plt"
   ]
  },
  {
   "cell_type": "code",
   "execution_count": 2,
   "metadata": {},
   "outputs": [],
   "source": [
    "def perceptron_for_OR(x, y, bias, weights, learning_rate, threshold, f):\n",
    "    \n",
    "    w = weights\n",
    "    b = bias\n",
    "    target = y\n",
    "    alpha = learning_rate\n",
    "    theta = threshold\n",
    "    flag = f\n",
    "    \n",
    "    # perceptron\n",
    "        \n",
    "    while(flag):\n",
    "        \n",
    "        flag = 0\n",
    "        \n",
    "        for index in range(4):\n",
    "            yin = b + inPut[0][index] * w[0] + inPut[1][index] * w[1]\n",
    "            \n",
    "            if(yin > theta):\n",
    "                y = 1\n",
    "                \n",
    "            elif((yin <= theta) and (yin >=- theta)):\n",
    "                y = 0\n",
    "            \n",
    "            elif(yin <=- theta):\n",
    "                y = -1\n",
    "            \n",
    "            if(y != target[index]):\n",
    "                flag = 1\n",
    "                for j in range(2):\n",
    "                    w[j] = w[j] + target[index] * inPut[j][index] * alpha\n",
    "                b = b + target[index] * alpha\n",
    "                        \n",
    "    # display\n",
    "\n",
    "    try:\n",
    "        m = -(w[0] / w[1])\n",
    "        c = -b / w[1]\n",
    "    except ZeroDivisionError:\n",
    "        m = 0\n",
    "        c = 0\n",
    "    s1 = np.linspace(-2,2,100)\n",
    "    s2 = m * s1 + c + theta\n",
    "    s3 = m * s1 + c - theta\n",
    "\n",
    "    plt.plot([0, 0, 0], [-2, 0, 2], 'black')\n",
    "    plt.plot([-2, 0, 2], [0, 0, 0], 'black')\n",
    "    plt.plot([1, 1, -1], [1, -1, 1], 'go')\n",
    "    plt.plot([-1], [-1], 'ro')\n",
    "    plt.plot(s1,s2, 'blue')\n",
    "    plt.plot(s1,s3, 'blue')\n",
    "    plt.axis([-2, 2, -2, 2])\n",
    "\n",
    "    plt.ylabel('Learning with the ' + str(index) + 'th' + ' educational vector')\n",
    "    plt.show()"
   ]
  },
  {
   "cell_type": "code",
   "execution_count": 3,
   "metadata": {},
   "outputs": [
    {
     "name": "stdout",
     "output_type": "stream",
     "text": [
      "+------+------+--------+-----+\n",
      "|  x1  |  x2  |  Bias  |  y  |\n",
      "+------+------+--------+-----+\n",
      "|  1   |  1   |   1    |  1  |\n",
      "|  1   |  -1  |   1    |  1  |\n",
      "|  -1  |  1   |   1    |  1  |\n",
      "|  -1  |  -1  |   1    |  -1 |\n",
      "+------+------+--------+-----+\n"
     ]
    }
   ],
   "source": [
    "from prettytable import PrettyTable\n",
    "\n",
    "first_vector = [1, 1, 1, 1]\n",
    "second_vector = [1, -1, 1, 1]\n",
    "third_vector = [-1, 1, 1, 1]\n",
    "fourth_vector = [-1, -1, 1, -1]\n",
    "\n",
    "t = PrettyTable([' x1 ', ' x2 ', ' Bias ', ' y '])\n",
    "t.add_row(first_vector)\n",
    "t.add_row(second_vector)\n",
    "t.add_row(third_vector)\n",
    "t.add_row(fourth_vector)\n",
    "\n",
    "print(t)"
   ]
  },
  {
   "cell_type": "code",
   "execution_count": 4,
   "metadata": {},
   "outputs": [
    {
     "data": {
      "image/png": "[encoded data removed]",
      "text/plain": [
       "<Figure size 432x288 with 1 Axes>"
      ]
     },
     "metadata": {
      "needs_background": "light"
     },
     "output_type": "display_data"
    }
   ],
   "source": [
    "# RESULTS\n",
    "\n",
    "# weight = [w1, w2]\n",
    "w = [0, 0]\n",
    "\n",
    "# b = Bias\n",
    "b = 0\n",
    "\n",
    "# learning rate\n",
    "alpha = 1\n",
    "\n",
    "# threshold\n",
    "theta = 0.5\n",
    "\n",
    "flag = 1\n",
    "\n",
    "inPut = [[1, 1, -1, -1], [1, -1, 1, -1]]\n",
    "target = [1, 1, 1, -1]\n",
    "\n",
    "perceptron_for_OR(inPut, target, b, w, alpha, theta, flag)"
   ]
  },
  {
   "cell_type": "code",
   "execution_count": null,
   "metadata": {},
   "outputs": [],
   "source": []
  }
 ],
 "metadata": {
  "kernelspec": {
   "display_name": "Python 3",
   "language": "python",
   "name": "python3"
  },
  "language_info": {
   "codemirror_mode": {
    "name": "ipython",
    "version": 3
   },
   "file_extension": ".py",
   "mimetype": "text/x-python",
   "name": "python",
   "nbconvert_exporter": "python",
   "pygments_lexer": "ipython3",
   "version": "3.8.3"
  }
 },
 "nbformat": 4,
 "nbformat_minor": 4
}
